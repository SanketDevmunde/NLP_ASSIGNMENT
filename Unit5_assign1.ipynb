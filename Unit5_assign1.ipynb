{
  "nbformat": 4,
  "nbformat_minor": 0,
  "metadata": {
    "colab": {
      "private_outputs": true,
      "provenance": []
    },
    "kernelspec": {
      "name": "python3",
      "display_name": "Python 3"
    },
    "language_info": {
      "name": "python"
    }
  },
  "cells": [
    {
      "cell_type": "code",
      "execution_count": null,
      "metadata": {
        "id": "cQeaudUJRVuB"
      },
      "outputs": [],
      "source": [
        "import re"
      ]
    },
    {
      "cell_type": "code",
      "source": [
        "# English to Hindi translation dictionary\n",
        "translation_dict = {\n",
        "    'i': 'मैं',\n",
        "    'you': 'तुम',\n",
        "    'he': 'वह',\n",
        "    'she': 'वह',\n",
        "    'we': 'हम',\n",
        "    'they': 'वे',\n",
        "    'am': 'हूं',\n",
        "    'are': 'हो',\n",
        "    'is': 'है',\n",
        "    'eat': 'खाता',\n",
        "    'eats': 'खाता',\n",
        "    'like': 'पसंद करता',\n",
        "    'likes': 'पसंद करता',\n",
        "    'play': 'खेलता',\n",
        "    'plays': 'खेलता',\n",
        "    'read': 'पढ़ता',\n",
        "    'reads': 'पढ़ता',\n",
        "    'book': 'किताब',\n",
        "    'mango': 'आम',\n",
        "    'football': 'फुटबॉल',\n",
        "    'milk': 'दूध'\n",
        "}"
      ],
      "metadata": {
        "id": "MaplUIvpRaJ-"
      },
      "execution_count": null,
      "outputs": []
    },
    {
      "cell_type": "code",
      "source": [
        "# Function to translate a single word\n",
        "def translate_word(word):\n",
        "    return translation_dict.get(word.lower(), word)"
      ],
      "metadata": {
        "id": "uVHAOXS1RhJw"
      },
      "execution_count": null,
      "outputs": []
    },
    {
      "cell_type": "code",
      "source": [
        "# Function to translate a single word\n",
        "def translate_word(word):\n",
        "    return translation_dict.get(word.lower(), word)\n",
        "\n",
        "# Function to translate English SVO sentence to Hindi\n",
        "def translate_to_hindi(sentence):\n",
        "    # Basic preprocessing\n",
        "    sentence = sentence.strip().lower()\n",
        "    pattern = r'(\\b\\w+\\b)\\s+(\\b\\w+\\b)\\s+(\\b\\w+\\b)'  # Match \"subject verb object\"\n",
        "    match = re.match(pattern, sentence)\n",
        "\n",
        "    if match:\n",
        "        subject, verb, obj = match.groups()\n",
        "        # Translate each word\n",
        "        subject_h = translate_word(subject).capitalize()\n",
        "        verb_h = translate_word(verb)\n",
        "        object_h = translate_word(obj)\n",
        "\n",
        "        # Reorder to Hindi structure: Subject Object Verb\n",
        "        return f\"{subject_h} {object_h} {verb_h}।\"\n",
        "    else:\n",
        "        return \"Unsupported sentence format.\""
      ],
      "metadata": {
        "id": "M56hBBNDRn7b"
      },
      "execution_count": null,
      "outputs": []
    },
    {
      "cell_type": "code",
      "source": [
        "examples = [\n",
        "    \"I eat mango\",\n",
        "    \"She plays football\",\n",
        "    \"We read book\",\n",
        "    \"He likes milk\",\n",
        "    \"They play football\"\n",
        "]\n",
        "\n",
        "print(\"English to Hindi Rule-Based Translation:\\n\")\n",
        "for s in examples:\n",
        "    print(f\"EN: {s}\")\n",
        "    print(f\"HI: {translate_to_hindi(s)}\\n\")"
      ],
      "metadata": {
        "id": "YeexrYIwRo_n"
      },
      "execution_count": null,
      "outputs": []
    }
  ]
}