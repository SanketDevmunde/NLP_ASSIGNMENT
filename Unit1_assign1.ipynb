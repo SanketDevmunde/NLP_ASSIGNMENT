{
  "nbformat": 4,
  "nbformat_minor": 0,
  "metadata": {
    "colab": {
      "private_outputs": true,
      "provenance": []
    },
    "kernelspec": {
      "name": "python3",
      "display_name": "Python 3"
    },
    "language_info": {
      "name": "python"
    }
  },
  "cells": [
    {
      "cell_type": "code",
      "execution_count": null,
      "metadata": {
        "id": "-5OfO0KJucKi"
      },
      "outputs": [],
      "source": [
        "# Install required libraries\n",
        "!pip install nltk spacy\n",
        "\n",
        "# Download resources\n",
        "import nltk\n",
        "nltk.download('punkt')\n",
        "nltk.download('stopwords')\n",
        "nltk.download('wordnet')\n",
        "nltk.download('punkt_tab')\n",
        "\n",
        "# Download spaCy model\n",
        "!python -m spacy download en_core_web_sm\n"
      ]
    },
    {
      "cell_type": "code",
      "source": [
        "import re\n",
        "import nltk\n",
        "import spacy\n",
        "from nltk.tokenize import word_tokenize, sent_tokenize\n",
        "from nltk.stem import PorterStemmer\n",
        "from nltk.stem import WordNetLemmatizer\n",
        "from nltk.corpus import stopwords\n",
        "\n",
        "# Sample text (simulate 5 pages by repeating)\n",
        "sample_text = \"\"\"\n",
        "Welcome to FutureTech Solutions! If you have any questions, feel free to contact our support team at help@futuretech.com or call us at +44-20-7946-0958.\n",
        "We’re available Monday to Friday, 9am to 6pm GMT.\n",
        "\n",
        "Don't forget to follow us on social media for updates: #AIRevolution #TechTrends @FutureTech_Official.\n",
        "Our headquarters are located in Silicon Valley, but we serve clients worldwide.\n",
        "\n",
        "Interested in partnership opportunities? Email partnerships@futuretech.com or reach out to James at james.connor@futuretech.com.\n",
        "\n",
        "We're currently hiring for multiple positions! Visit our careers page or email hr@futuretech.com with your CV.\n",
        "Phone interviews will be scheduled at +1 (555) 678-9012.\n",
        "\n",
        "Stay innovative and stay connected. #InnovationFirst #GlobalTech\n",
        "\n",
        "For emergencies, you can also reach our 24x7 hotline: +91-9876543210.\n",
        "Thank you for being part of our journey!\n",
        "\"\"\"\n",
        "\n",
        "# Simulating multiple pages (you can load your own .txt or .pdf file)\n",
        "text_data = sample_text * 50  # Repeat to simulate large dataset\n",
        "\n",
        "# 1. Tokenization\n",
        "tokens = word_tokenize(text_data)\n",
        "print(\"Tokens:\", tokens[:20])\n",
        "\n",
        "# 2. Stemming using NLTK\n",
        "stemmer = PorterStemmer()\n",
        "stems = [stemmer.stem(token) for token in tokens if token.isalpha()]\n",
        "print(\"\\nStemmed Words:\", stems[:20])\n",
        "\n",
        "# 3. Lemmatization using NLTK\n",
        "lemmatizer = WordNetLemmatizer()\n",
        "lemmas = [lemmatizer.lemmatize(token) for token in tokens if token.isalpha()]\n",
        "print(\"\\nLemmatized Words (NLTK):\", lemmas[:20])\n",
        "\n",
        "# 4. Lemmatization using spaCy\n",
        "nlp = spacy.load(\"en_core_web_sm\")\n",
        "doc = nlp(text_data)\n",
        "spacy_lemmas = [token.lemma_ for token in doc if token.is_alpha]\n",
        "print(\"\\nLemmatized Words (spaCy):\", spacy_lemmas[:20])\n",
        "\n",
        "# 5. Regular Expressions\n",
        "emails = re.findall(r'[a-zA-Z0-9_.+-]+@[a-zA-Z0-9-]+\\.[a-zA-Z0-9-.]+', text_data)\n",
        "phones = re.findall(r'\\+?\\d[\\d\\-]{7,}\\d', text_data)\n",
        "hashtags = re.findall(r'#\\w+', text_data)\n",
        "\n",
        "print(\"\\nEmails found:\", emails[:5])\n",
        "print(\"Phone numbers found:\", phones[:5])\n",
        "print(\"Hashtags found:\", hashtags[:5])\n"
      ],
      "metadata": {
        "id": "M1SdV0gPupqG"
      },
      "execution_count": null,
      "outputs": []
    }
  ]
}