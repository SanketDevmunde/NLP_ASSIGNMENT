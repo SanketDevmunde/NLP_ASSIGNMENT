{
  "nbformat": 4,
  "nbformat_minor": 0,
  "metadata": {
    "colab": {
      "private_outputs": true,
      "provenance": [],
      "gpuType": "T4"
    },
    "kernelspec": {
      "name": "python3",
      "display_name": "Python 3"
    },
    "language_info": {
      "name": "python"
    },
    "accelerator": "GPU"
  },
  "cells": [
    {
      "cell_type": "code",
      "execution_count": null,
      "metadata": {
        "id": "G2i6dburLeT4"
      },
      "outputs": [],
      "source": [
        "import nltk\n",
        "from nltk.corpus import wordnet as wn\n",
        "from nltk.wsd import lesk"
      ]
    },
    {
      "cell_type": "code",
      "source": [
        "nltk.download('wordnet')\n",
        "nltk.download('omw-1.4')\n",
        "nltk.download('punkt')\n",
        "nltk.download('punkt_tab')"
      ],
      "metadata": {
        "id": "JOV6lJo_Lhnw"
      },
      "execution_count": null,
      "outputs": []
    },
    {
      "cell_type": "code",
      "source": [
        "sentences = [\n",
        "    \"He deposited money in the bank.\",\n",
        "    \"She sat on the river bank to enjoy the sunset.\"\n",
        "]"
      ],
      "metadata": {
        "id": "Mi8WT2mqLr83"
      },
      "execution_count": null,
      "outputs": []
    },
    {
      "cell_type": "code",
      "source": [
        "sentences_tokens = [nltk.word_tokenize(sent) for sent in sentences]"
      ],
      "metadata": {
        "id": "00ZaMp_kLvY0"
      },
      "execution_count": null,
      "outputs": []
    },
    {
      "cell_type": "code",
      "source": [
        "for i, sent in enumerate(sentences_tokens):\n",
        "    sense = lesk(sent, 'bank')\n",
        "    print(f\"Sentence {i+1}: {sentences[i]}\")\n",
        "    print(f\"Predicted Sense: {sense.definition() if sense else 'No sense found'}\\n\")"
      ],
      "metadata": {
        "id": "5AUt0jAPMf_L"
      },
      "execution_count": null,
      "outputs": []
    }
  ]
}