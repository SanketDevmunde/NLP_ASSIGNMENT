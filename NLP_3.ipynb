{
  "nbformat": 4,
  "nbformat_minor": 0,
  "metadata": {
    "colab": {
      "provenance": [],
      "include_colab_link": true
    },
    "kernelspec": {
      "name": "python3",
      "display_name": "Python 3"
    },
    "language_info": {
      "name": "python"
    }
  },
  "cells": [
    {
      "cell_type": "markdown",
      "metadata": {
        "id": "view-in-github",
        "colab_type": "text"
      },
      "source": [
        "<a href=\"https://colab.research.google.com/github/SanketDevmunde/NLP_ASSIGNMENT/blob/main/NLP_3.ipynb\" target=\"_parent\"><img src=\"https://colab.research.google.com/assets/colab-badge.svg\" alt=\"Open In Colab\"/></a>"
      ]
    },
    {
      "cell_type": "code",
      "execution_count": null,
      "metadata": {
        "colab": {
          "base_uri": "https://localhost:8080/"
        },
        "id": "3HtNmvcf4Uww",
        "outputId": "ca1cd31b-f5e5-4259-8f35-4e695906c429"
      },
      "outputs": [
        {
          "output_type": "stream",
          "name": "stdout",
          "text": [
            "Requirement already satisfied: nltk in /usr/local/lib/python3.11/dist-packages (3.9.1)\n",
            "Requirement already satisfied: scikit-learn in /usr/local/lib/python3.11/dist-packages (1.6.1)\n",
            "Requirement already satisfied: click in /usr/local/lib/python3.11/dist-packages (from nltk) (8.1.8)\n",
            "Requirement already satisfied: joblib in /usr/local/lib/python3.11/dist-packages (from nltk) (1.4.2)\n",
            "Requirement already satisfied: regex>=2021.8.3 in /usr/local/lib/python3.11/dist-packages (from nltk) (2024.11.6)\n",
            "Requirement already satisfied: tqdm in /usr/local/lib/python3.11/dist-packages (from nltk) (4.67.1)\n",
            "Requirement already satisfied: numpy>=1.19.5 in /usr/local/lib/python3.11/dist-packages (from scikit-learn) (1.26.4)\n",
            "Requirement already satisfied: scipy>=1.6.0 in /usr/local/lib/python3.11/dist-packages (from scikit-learn) (1.13.1)\n",
            "Requirement already satisfied: threadpoolctl>=3.1.0 in /usr/local/lib/python3.11/dist-packages (from scikit-learn) (3.5.0)\n"
          ]
        }
      ],
      "source": [
        "# Install necessary libraries\n",
        "!pip install nltk scikit-learn\n",
        "\n",
        "import nltk\n",
        "import re\n",
        "import pandas as pd\n",
        "import numpy as np\n",
        "from nltk.corpus import stopwords\n",
        "from nltk.stem import WordNetLemmatizer\n",
        "from sklearn.preprocessing import LabelEncoder\n",
        "from sklearn.feature_extraction.text import TfidfVectorizer"
      ]
    },
    {
      "cell_type": "code",
      "source": [
        "# Download necessary resources\n",
        "nltk.download('stopwords')\n",
        "nltk.download('wordnet')\n",
        "nltk.download('omw-1.4')"
      ],
      "metadata": {
        "colab": {
          "base_uri": "https://localhost:8080/"
        },
        "id": "ufgb2q1r4hFn",
        "outputId": "251a946e-94bf-4656-9a28-589c6207869d"
      },
      "execution_count": null,
      "outputs": [
        {
          "output_type": "stream",
          "name": "stderr",
          "text": [
            "[nltk_data] Downloading package stopwords to /root/nltk_data...\n",
            "[nltk_data]   Unzipping corpora/stopwords.zip.\n",
            "[nltk_data] Downloading package wordnet to /root/nltk_data...\n",
            "[nltk_data] Downloading package omw-1.4 to /root/nltk_data...\n"
          ]
        },
        {
          "output_type": "execute_result",
          "data": {
            "text/plain": [
              "True"
            ]
          },
          "metadata": {},
          "execution_count": 2
        }
      ]
    },
    {
      "cell_type": "code",
      "source": [
        "# Sample dataset\n",
        "data = {'Text': [\"I love programming in Python!\", \"Natural Language Processing is amazing.\", \"Machine learning models require data preprocessing.\"],\n",
        "        'Category': ['Positive', 'Positive', 'Neutral']}\n",
        "df = pd.DataFrame(data)"
      ],
      "metadata": {
        "id": "AlwtwgGs4hJu"
      },
      "execution_count": null,
      "outputs": []
    },
    {
      "cell_type": "code",
      "source": [
        "# Lemmatization\n",
        "lemmatizer = WordNetLemmatizer()\n",
        "def lemmatize_text(text):\n",
        "    words = text.split()\n",
        "    words = [lemmatizer.lemmatize(word) for word in words]\n",
        "    return ' '.join(words)\n",
        "\n",
        "# Apply lemmatization to the 'Text' column and store the result in 'Lemmatized_Text'\n",
        "df['Lemmatized_Text'] = df['Text'].apply(lemmatize_text)"
      ],
      "metadata": {
        "id": "cfk3xzZr4hTX"
      },
      "execution_count": null,
      "outputs": []
    },
    {
      "cell_type": "code",
      "source": [
        "# Remove Stop Words\n",
        "stop_words = set(stopwords.words('english'))\n",
        "def remove_stopwords(text):\n",
        "    words = text.split()\n",
        "    words = [word for word in words if word not in stop_words]\n",
        "    return ' '.join(words)\n",
        "\n",
        "df['Processed_Text'] = df['Lemmatized_Text'].apply(remove_stopwords)\n"
      ],
      "metadata": {
        "id": "sa8ZSb5u4hXm"
      },
      "execution_count": null,
      "outputs": []
    },
    {
      "cell_type": "code",
      "source": [
        "# Label Encoding\n",
        "label_encoder = LabelEncoder()\n",
        "df['Category_Label'] = label_encoder.fit_transform(df['Category'])\n"
      ],
      "metadata": {
        "id": "2USGn2Mz4hcO"
      },
      "execution_count": null,
      "outputs": []
    },
    {
      "cell_type": "code",
      "source": [
        "# TF-IDF Representation\n",
        "tfidf_vectorizer = TfidfVectorizer()\n",
        "tfidf_matrix = tfidf_vectorizer.fit_transform(df['Processed_Text'])\n",
        "\n",
        "tfidf_df = pd.DataFrame(tfidf_matrix.toarray(), columns=tfidf_vectorizer.get_feature_names_out())\n"
      ],
      "metadata": {
        "id": "dBJpa3SY4hhH"
      },
      "execution_count": null,
      "outputs": []
    },
    {
      "cell_type": "code",
      "source": [
        "# Save outputs\n",
        "df.to_csv('processed_text_data.csv', index=False)\n",
        "tfidf_df.to_csv('tfidf_representation.csv', index=False)"
      ],
      "metadata": {
        "id": "oVAkeg124hmF"
      },
      "execution_count": null,
      "outputs": []
    },
    {
      "cell_type": "code",
      "source": [
        "# Display results\n",
        "df, tfidf_df"
      ],
      "metadata": {
        "colab": {
          "base_uri": "https://localhost:8080/"
        },
        "id": "sIz4_L_b4hq-",
        "outputId": "51751208-e9c4-4d1c-ddf7-4963eaf0fff6"
      },
      "execution_count": null,
      "outputs": [
        {
          "output_type": "execute_result",
          "data": {
            "text/plain": [
              "(                                                Text  Category  \\\n",
              " 0                      I love programming in Python!  Positive   \n",
              " 1            Natural Language Processing is amazing.  Positive   \n",
              " 2  Machine learning models require data preproces...   Neutral   \n",
              " \n",
              "                                      Lemmatized_Text  \\\n",
              " 0                      I love programming in Python!   \n",
              " 1            Natural Language Processing is amazing.   \n",
              " 2  Machine learning model require data preprocess...   \n",
              " \n",
              "                                       Processed_Text  Category_Label  \n",
              " 0                         I love programming Python!               1  \n",
              " 1               Natural Language Processing amazing.               1  \n",
              " 2  Machine learning model require data preprocess...               0  ,\n",
              "    amazing      data  language  learning     love   machine     model  \\\n",
              " 0      0.0  0.000000       0.0  0.000000  0.57735  0.000000  0.000000   \n",
              " 1      0.5  0.000000       0.5  0.000000  0.00000  0.000000  0.000000   \n",
              " 2      0.0  0.408248       0.0  0.408248  0.00000  0.408248  0.408248   \n",
              " \n",
              "    natural  preprocessing  processing  programming   python   require  \n",
              " 0      0.0       0.000000         0.0      0.57735  0.57735  0.000000  \n",
              " 1      0.5       0.000000         0.5      0.00000  0.00000  0.000000  \n",
              " 2      0.0       0.408248         0.0      0.00000  0.00000  0.408248  )"
            ]
          },
          "metadata": {},
          "execution_count": 11
        }
      ]
    }
  ]
}