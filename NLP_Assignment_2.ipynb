{
  "nbformat": 4,
  "nbformat_minor": 0,
  "metadata": {
    "colab": {
      "provenance": [],
      "include_colab_link": true
    },
    "kernelspec": {
      "name": "python3",
      "display_name": "Python 3"
    },
    "language_info": {
      "name": "python"
    }
  },
  "cells": [
    {
      "cell_type": "markdown",
      "metadata": {
        "id": "view-in-github",
        "colab_type": "text"
      },
      "source": [
        "<a href=\"https://colab.research.google.com/github/SanketDevmunde/NLP_ASSIGNMENT/blob/main/NLP_Assignment_2.ipynb\" target=\"_parent\"><img src=\"https://colab.research.google.com/assets/colab-badge.svg\" alt=\"Open In Colab\"/></a>"
      ]
    },
    {
      "cell_type": "code",
      "source": [
        "# Install necessary libraries\n",
        "!pip install -U nltk gensim scikit-learn\n",
        "\n",
        "# Import required libraries\n",
        "from sklearn.feature_extraction.text import CountVectorizer, TfidfTransformer\n",
        "from gensim.models import Word2Vec\n",
        "import nltk\n",
        "import numpy as np\n",
        "nltk.download('punkt_tab')\n",
        "\n",
        "\n",
        "# Sample documents\n",
        "documents = [\n",
        "    \"This is the first document.\",\n",
        "    \"This document is the second document.\",\n",
        "    \"And this is the third one.\"\n",
        "]"
      ],
      "metadata": {
        "colab": {
          "base_uri": "https://localhost:8080/"
        },
        "id": "tEwRiEOEVX5k",
        "outputId": "2f49d800-be7e-421f-9d5f-835cec603028"
      },
      "execution_count": null,
      "outputs": [
        {
          "output_type": "stream",
          "name": "stdout",
          "text": [
            "Requirement already satisfied: nltk in /usr/local/lib/python3.11/dist-packages (3.9.1)\n",
            "Requirement already satisfied: gensim in /usr/local/lib/python3.11/dist-packages (4.3.3)\n",
            "Requirement already satisfied: scikit-learn in /usr/local/lib/python3.11/dist-packages (1.6.1)\n",
            "Requirement already satisfied: click in /usr/local/lib/python3.11/dist-packages (from nltk) (8.1.8)\n",
            "Requirement already satisfied: joblib in /usr/local/lib/python3.11/dist-packages (from nltk) (1.4.2)\n",
            "Requirement already satisfied: regex>=2021.8.3 in /usr/local/lib/python3.11/dist-packages (from nltk) (2024.11.6)\n",
            "Requirement already satisfied: tqdm in /usr/local/lib/python3.11/dist-packages (from nltk) (4.67.1)\n",
            "Requirement already satisfied: numpy<2.0,>=1.18.5 in /usr/local/lib/python3.11/dist-packages (from gensim) (1.26.4)\n",
            "Requirement already satisfied: scipy<1.14.0,>=1.7.0 in /usr/local/lib/python3.11/dist-packages (from gensim) (1.13.1)\n",
            "Requirement already satisfied: smart-open>=1.8.1 in /usr/local/lib/python3.11/dist-packages (from gensim) (7.1.0)\n",
            "Requirement already satisfied: threadpoolctl>=3.1.0 in /usr/local/lib/python3.11/dist-packages (from scikit-learn) (3.5.0)\n",
            "Requirement already satisfied: wrapt in /usr/local/lib/python3.11/dist-packages (from smart-open>=1.8.1->gensim) (1.17.2)\n"
          ]
        },
        {
          "output_type": "stream",
          "name": "stderr",
          "text": [
            "[nltk_data] Downloading package punkt_tab to /root/nltk_data...\n",
            "[nltk_data]   Package punkt_tab is already up-to-date!\n"
          ]
        }
      ]
    },
    {
      "cell_type": "code",
      "source": [
        "vectorizer = CountVectorizer()\n",
        "X = vectorizer.fit_transform(documents)\n",
        "count_matrix = X.toarray()  # Convert sparse matrix to NumPy array\n",
        "\n",
        "print(\"Count Occurrence Matrix:\\n\", count_matrix)"
      ],
      "metadata": {
        "colab": {
          "base_uri": "https://localhost:8080/"
        },
        "id": "y3E4567PVX-D",
        "outputId": "670ab0f9-079b-4582-de14-309fd25e00f3"
      },
      "execution_count": null,
      "outputs": [
        {
          "output_type": "stream",
          "name": "stdout",
          "text": [
            "Count Occurrence Matrix:\n",
            " [[0 1 1 1 0 0 1 0 1]\n",
            " [0 2 0 1 0 1 1 0 1]\n",
            " [1 0 0 1 1 0 1 1 1]]\n"
          ]
        }
      ]
    },
    {
      "cell_type": "code",
      "source": [
        "tf_normalized = count_matrix / count_matrix.sum(axis=1, keepdims=True)\n",
        "print(\"\\nNormalized Count Occurrence (TF):\\n\", np.round(tf_normalized, 3))\n"
      ],
      "metadata": {
        "colab": {
          "base_uri": "https://localhost:8080/"
        },
        "id": "1AqUeclPVYCj",
        "outputId": "8b1e3795-7972-4eae-d556-694e31f92e73"
      },
      "execution_count": null,
      "outputs": [
        {
          "output_type": "stream",
          "name": "stdout",
          "text": [
            "\n",
            "Normalized Count Occurrence (TF):\n",
            " [[0.    0.2   0.2   0.2   0.    0.    0.2   0.    0.2  ]\n",
            " [0.    0.333 0.    0.167 0.    0.167 0.167 0.    0.167]\n",
            " [0.167 0.    0.    0.167 0.167 0.    0.167 0.167 0.167]]\n"
          ]
        }
      ]
    },
    {
      "cell_type": "code",
      "source": [
        "tfidf_transformer = TfidfTransformer()\n",
        "tfidf_matrix = tfidf_transformer.fit_transform(count_matrix).toarray()\n",
        "\n",
        "print(\"\\nTF-IDF Matrix:\\n\", np.round(tfidf_matrix, 3))"
      ],
      "metadata": {
        "colab": {
          "base_uri": "https://localhost:8080/"
        },
        "id": "vF-plBJAVo2M",
        "outputId": "77ad27dd-0d71-4927-a796-8fc7c3bb04c9"
      },
      "execution_count": null,
      "outputs": [
        {
          "output_type": "stream",
          "name": "stdout",
          "text": [
            "\n",
            "TF-IDF Matrix:\n",
            " [[0.    0.469 0.617 0.365 0.    0.    0.365 0.    0.365]\n",
            " [0.    0.728 0.    0.283 0.    0.479 0.283 0.    0.283]\n",
            " [0.497 0.    0.    0.294 0.497 0.    0.294 0.497 0.294]]\n"
          ]
        }
      ]
    },
    {
      "cell_type": "code",
      "source": [
        "# Function to tokenize text\n",
        "def tokenize_text(text):\n",
        "    return nltk.word_tokenize(text.lower())\n",
        "\n",
        "# Tokenizing the documents\n",
        "tokenized_documents = [tokenize_text(doc) for doc in documents]\n",
        "\n",
        "# Train Word2Vec model\n",
        "word2vec_model = Word2Vec(sentences=tokenized_documents, vector_size=100, window=5, min_count=1, workers=4)\n",
        "\n",
        "# Example: Get word embedding for \"document\"\n",
        "word_embedding = word2vec_model.wv['document']\n",
        "print(\"\\nEmbedding for 'document':\\n\", word_embedding)"
      ],
      "metadata": {
        "colab": {
          "base_uri": "https://localhost:8080/"
        },
        "id": "3pcTNgHnVYHL",
        "outputId": "63a31007-4658-4040-fbfd-2f50d34835cd"
      },
      "execution_count": null,
      "outputs": [
        {
          "output_type": "stream",
          "name": "stdout",
          "text": [
            "\n",
            "Embedding for 'document':\n",
            " [-8.6204959e-03  3.6656798e-03  5.1890435e-03  5.7413341e-03\n",
            "  7.4667106e-03 -6.1669527e-03  1.1071442e-03  6.0478016e-03\n",
            " -2.8417453e-03 -6.1734831e-03 -4.1064565e-04 -8.3685964e-03\n",
            " -5.6015723e-03  7.1051149e-03  3.3512993e-03  7.2244625e-03\n",
            "  6.8005081e-03  7.5318469e-03 -3.7887152e-03 -5.6384038e-04\n",
            "  2.3478975e-03 -4.5202258e-03  8.3918469e-03 -9.8565696e-03\n",
            "  6.7639211e-03  2.9146592e-03 -4.9328543e-03  4.3973904e-03\n",
            " -1.7405687e-03  6.7118029e-03  9.9671669e-03 -4.3619340e-03\n",
            " -5.9958611e-04 -5.6970902e-03  3.8511248e-03  2.7869588e-03\n",
            "  6.8903468e-03  6.1010849e-03  9.5382044e-03  9.2721898e-03\n",
            "  7.9001701e-03 -6.9917394e-03 -9.1567943e-03 -3.5570699e-04\n",
            " -3.0986702e-03  7.8943772e-03  5.9379833e-03 -1.5462040e-03\n",
            "  1.5110098e-03  1.7886526e-03  7.8182593e-03 -9.5115863e-03\n",
            " -2.0458201e-04  3.4695806e-03 -9.4097451e-04  8.3801365e-03\n",
            "  9.0101836e-03  6.5338048e-03 -7.1310432e-04  7.7079539e-03\n",
            " -8.5331853e-03  3.2056449e-03 -4.6360181e-03 -5.0893556e-03\n",
            "  3.5890022e-03  5.3713322e-03  7.7699665e-03 -5.7655945e-03\n",
            "  7.4311798e-03  6.6253445e-03 -3.7107009e-03 -8.7436736e-03\n",
            "  5.4376624e-03  6.5114680e-03 -7.8659347e-04 -6.7093833e-03\n",
            " -7.0865653e-03 -2.4951678e-03  5.1437705e-03 -3.6654535e-03\n",
            " -9.3698781e-03  3.8243327e-03  4.8845611e-03 -6.4294343e-03\n",
            "  1.2075754e-03 -2.0774005e-03  2.6244397e-05 -9.8832427e-03\n",
            "  2.6899811e-03 -4.7504669e-03  1.0884205e-03 -1.5760364e-03\n",
            "  2.1961664e-03 -7.8824582e-03 -2.7159739e-03  2.6629223e-03\n",
            "  5.3484156e-03 -2.3923246e-03 -9.5099080e-03  4.5062690e-03]\n"
          ]
        }
      ]
    }
  ]
}