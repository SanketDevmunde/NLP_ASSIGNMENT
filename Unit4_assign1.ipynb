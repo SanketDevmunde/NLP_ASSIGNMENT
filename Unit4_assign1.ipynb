{
  "nbformat": 4,
  "nbformat_minor": 0,
  "metadata": {
    "colab": {
      "private_outputs": true,
      "provenance": []
    },
    "kernelspec": {
      "name": "python3",
      "display_name": "Python 3"
    },
    "language_info": {
      "name": "python"
    }
  },
  "cells": [
    {
      "cell_type": "code",
      "execution_count": null,
      "metadata": {
        "id": "R0wF_EyrI_u_"
      },
      "outputs": [],
      "source": [
        "from sklearn.feature_extraction.text import TfidfVectorizer\n",
        "from sklearn.metrics.pairwise import cosine_similarity"
      ]
    },
    {
      "cell_type": "code",
      "source": [
        "documents = [\n",
        "    \"The quick brown fox jumps over the lazy dog\",\n",
        "    \"Never jump over the lazy dog quickly\",\n",
        "    \"The fox is quick and brown\",\n",
        "    \"Python is a popular programming language\",\n",
        "    \"Machine learning is a part of artificial intelligence\"\n",
        "]"
      ],
      "metadata": {
        "id": "iViRlmQHJIfW"
      },
      "execution_count": null,
      "outputs": []
    },
    {
      "cell_type": "code",
      "source": [
        "# Initialize TF-IDF Vectorizer\n",
        "vectorizer = TfidfVectorizer()\n",
        "\n",
        "# Vectorize the documents\n",
        "tfidf_matrix = vectorizer.fit_transform(documents)"
      ],
      "metadata": {
        "id": "di6AySM4JOXT"
      },
      "execution_count": null,
      "outputs": []
    },
    {
      "cell_type": "code",
      "source": [
        "def search_engine(query, tfidf_matrix, vectorizer, documents):\n",
        "    query_vec = vectorizer.transform([query])  # Vectorize the query\n",
        "    cosine_similarities = cosine_similarity(query_vec, tfidf_matrix).flatten()\n",
        "\n",
        "    # Get top 3 documents with highest similarity\n",
        "    top_indices = cosine_similarities.argsort()[-3:][::-1]\n",
        "\n",
        "    print(\"\\nTop relevant documents:\")\n",
        "    for index in top_indices:\n",
        "        print(f\"\\nDocument {index + 1} (Score: {cosine_similarities[index]:.4f}):\")\n",
        "        print(documents[index])"
      ],
      "metadata": {
        "id": "0zHoW9VhJSgj"
      },
      "execution_count": null,
      "outputs": []
    },
    {
      "cell_type": "code",
      "source": [
        "if __name__ == \"__main__\":\n",
        "    while True:\n",
        "        user_query = input(\"\\nEnter your search query (or type 'exit' to quit): \")\n",
        "        if user_query.lower() == 'exit':\n",
        "            break\n",
        "        search_engine(user_query, tfidf_matrix, vectorizer, documents)"
      ],
      "metadata": {
        "id": "myLEItDXJfID"
      },
      "execution_count": null,
      "outputs": []
    }
  ]
}
