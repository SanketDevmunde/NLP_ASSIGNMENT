{
  "nbformat": 4,
  "nbformat_minor": 0,
  "metadata": {
    "colab": {
      "private_outputs": true,
      "provenance": []
    },
    "kernelspec": {
      "name": "python3",
      "display_name": "Python 3"
    },
    "language_info": {
      "name": "python"
    }
  },
  "cells": [
    {
      "cell_type": "code",
      "execution_count": null,
      "metadata": {
        "id": "0hlbKt7P2WsH"
      },
      "outputs": [],
      "source": [
        "import nltk\n",
        "from nltk.util import ngrams\n",
        "from nltk import word_tokenize\n",
        "from collections import defaultdict, Counter\n",
        "import math\n",
        "\n",
        "nltk.download('punkt')\n",
        "\n"
      ]
    },
    {
      "cell_type": "code",
      "source": [
        "nltk.download('punkt_tab')"
      ],
      "metadata": {
        "id": "dXrDwQCs2oq1"
      },
      "execution_count": null,
      "outputs": []
    },
    {
      "cell_type": "code",
      "source": [
        "text = \"\"\"\n",
        "Natural language processing is a subfield of artificial intelligence.\n",
        "It deals with the interaction between computers and humans using language.\n",
        "NLP helps machines understand, interpret, and generate human language.\n",
        "\"\"\"\n",
        "\n",
        "# Tokenize and lowercase\n",
        "tokens = word_tokenize(text.lower())\n"
      ],
      "metadata": {
        "id": "FqxG2d-P2o6s"
      },
      "execution_count": null,
      "outputs": []
    },
    {
      "cell_type": "code",
      "source": [
        "# Count n-grams\n",
        "unigrams = list(ngrams(tokens, 1))\n",
        "bigrams = list(ngrams(tokens, 2))\n",
        "trigrams = list(ngrams(tokens, 3))\n",
        "\n",
        "# Frequency counts\n",
        "unigram_freq = Counter(unigrams)\n",
        "bigram_freq = Counter(bigrams)\n",
        "trigram_freq = Counter(trigrams)\n",
        "\n",
        "# Vocabulary\n",
        "vocab = set(tokens)\n",
        "V = len(vocab)\n",
        "\n",
        "print(\"Top 5 Unigrams:\", unigram_freq.most_common(5))\n",
        "print(\"Top 5 Bigrams:\", bigram_freq.most_common(5))\n",
        "print(\"Top 5 Trigrams:\", trigram_freq.most_common(5))\n"
      ],
      "metadata": {
        "id": "Hm46C4dL2wOw"
      },
      "execution_count": null,
      "outputs": []
    },
    {
      "cell_type": "code",
      "source": [
        "def unigram_prob(word, unigram_freq, V):\n",
        "    return (unigram_freq[(word,)] + 1) / (sum(unigram_freq.values()) + V)\n",
        "\n",
        "def bigram_prob(w1, w2, bigram_freq, unigram_freq, V):\n",
        "    return (bigram_freq[(w1, w2)] + 1) / (unigram_freq[(w1,)] + V)\n",
        "\n",
        "def trigram_prob(w1, w2, w3, trigram_freq, bigram_freq, V):\n",
        "    return (trigram_freq[(w1, w2, w3)] + 1) / (bigram_freq[(w1, w2)] + V)\n"
      ],
      "metadata": {
        "id": "SfuDN_8e2xIV"
      },
      "execution_count": null,
      "outputs": []
    },
    {
      "cell_type": "code",
      "source": [
        "def compute_bigram_sentence_prob(sentence):\n",
        "    sentence = word_tokenize(sentence.lower())\n",
        "    prob = 1.0\n",
        "    for w1, w2 in ngrams(sentence, 2):\n",
        "        p = bigram_prob(w1, w2, bigram_freq, unigram_freq, V)\n",
        "        prob *= p\n",
        "        print(f\"P({w2}|{w1}) = {p:.4f}\")\n",
        "    print(f\"\\nTotal Sentence Probability: {prob:.10f}\")\n",
        "\n",
        "compute_bigram_sentence_prob(\"language processing is a subfield\")\n"
      ],
      "metadata": {
        "id": "HHfvyKct23El"
      },
      "execution_count": null,
      "outputs": []
    },
    {
      "cell_type": "code",
      "source": [
        "def log_prob_sentence_trigram(sentence):\n",
        "    sentence = word_tokenize(sentence.lower())\n",
        "    log_prob = 0.0\n",
        "    for w1, w2, w3 in ngrams(sentence, 3):\n",
        "        p = trigram_prob(w1, w2, w3, trigram_freq, bigram_freq, V)\n",
        "        log_prob += math.log(p)\n",
        "        print(f\"log P({w3}|{w1} {w2}) = {math.log(p):.4f}\")\n",
        "    print(f\"\\nTotal Log Probability: {log_prob:.4f}\")\n"
      ],
      "metadata": {
        "id": "_GtRpnCV230A"
      },
      "execution_count": null,
      "outputs": []
    }
  ]
}