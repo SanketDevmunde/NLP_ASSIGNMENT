{
  "nbformat": 4,
  "nbformat_minor": 0,
  "metadata": {
    "colab": {
      "private_outputs": true,
      "provenance": []
    },
    "kernelspec": {
      "name": "python3",
      "display_name": "Python 3"
    },
    "language_info": {
      "name": "python"
    }
  },
  "cells": [
    {
      "cell_type": "code",
      "execution_count": null,
      "metadata": {
        "id": "TKIUKe1-M6C1"
      },
      "outputs": [],
      "source": [
        "import spacy\n",
        "from spacy import displacy"
      ]
    },
    {
      "cell_type": "code",
      "source": [
        "# Load the pre-trained spaCy English model\n",
        "nlp = spacy.load(\"en_core_web_sm\")\n",
        "\n",
        "# Sample text (you can replace this with any dataset or article)\n",
        "text = \"\"\"Albert Einstein was born in Ulm, Germany in 1879. He developed the theory of\n",
        "relativity, one of the two pillars of modern physics. In 1921, he received the\n",
        "Nobel Prize in Physics for his explanation of the photoelectric effect.\n",
        "Einstein emigrated to the United States in 1933 and worked at Princeton University.\"\"\"\n"
      ],
      "metadata": {
        "id": "T0kQmR23NQE0"
      },
      "execution_count": null,
      "outputs": []
    },
    {
      "cell_type": "code",
      "source": [
        "# Process the text using spaCy's NLP pipeline\n",
        "doc = nlp(text)\n",
        "\n",
        "# Extract named entities\n",
        "print(\"Named Entities:\\n\")\n",
        "for ent in doc.ents:\n",
        "    print(f\"{ent.text:<30} --> {ent.label_}\")\n",
        "\n",
        "# Visualize named entities in the text using displaCy\n",
        "displacy.serve(doc, style=\"ent\")"
      ],
      "metadata": {
        "id": "66zrFN-LOmDu"
      },
      "execution_count": null,
      "outputs": []
    }
  ]
}
