{
  "nbformat": 4,
  "nbformat_minor": 0,
  "metadata": {
    "colab": {
      "private_outputs": true,
      "provenance": []
    },
    "kernelspec": {
      "name": "python3",
      "display_name": "Python 3"
    },
    "language_info": {
      "name": "python"
    }
  },
  "cells": [
    {
      "cell_type": "code",
      "execution_count": null,
      "metadata": {
        "id": "VAfcWn4Jxi_H"
      },
      "outputs": [],
      "source": [
        "# Install spaCy and download English model\n",
        "!pip install nltk spacy\n",
        "!python -m spacy download en_core_web_sm\n",
        "\n",
        "# Download required NLTK data\n",
        "import nltk\n",
        "nltk.download('punkt')\n",
        "nltk.download('averaged_perceptron_tagger')\n"
      ]
    },
    {
      "cell_type": "code",
      "source": [
        "nltk.download('punkt_tab')\n",
        "nltk.download('averaged_perceptron_tagger_eng')"
      ],
      "metadata": {
        "id": "9IPE_TROyQtw"
      },
      "execution_count": null,
      "outputs": []
    },
    {
      "cell_type": "code",
      "source": [
        "sample_text = \"\"\"\n",
        "Artificial Intelligence (AI) is a branch of computer science that aims to create machines capable of intelligent behavior.\n",
        "Research in AI includes machine learning, natural language processing, robotics, and more.\n",
        "\n",
        "The field began in the 1950s and has gone through many cycles of hype and disappointment.\n",
        "Recently, deep learning and big data have brought major breakthroughs in AI capabilities.\n",
        "\n",
        "Companies like Google, OpenAI, and Meta are heavily investing in AI research and development.\n",
        "This progress raises ethical questions around automation, bias, and the future of work.\n",
        "\"\"\"\n",
        "text_data = sample_text * 30  # Simulate larger dataset\n"
      ],
      "metadata": {
        "id": "x4P_r0FAxqbf"
      },
      "execution_count": null,
      "outputs": []
    },
    {
      "cell_type": "code",
      "source": [
        "from nltk import word_tokenize, pos_tag\n",
        "from collections import Counter\n",
        "\n",
        "# Tokenize and POS tag\n",
        "tokens = word_tokenize(text_data)\n",
        "nltk_pos_tags = pos_tag(tokens)\n",
        "\n",
        "# Frequency analysis\n",
        "nltk_pos_freq = Counter(tag for word, tag in nltk_pos_tags)\n",
        "\n",
        "print(\"NLTK POS Tag Frequencies:\")\n",
        "for tag, count in nltk_pos_freq.most_common(10):\n",
        "    print(f\"{tag}: {count}\")\n"
      ],
      "metadata": {
        "id": "yn_82kcAxtCj"
      },
      "execution_count": null,
      "outputs": []
    },
    {
      "cell_type": "code",
      "source": [
        "import spacy\n",
        "from collections import Counter\n",
        "\n",
        "# Load spaCy model\n",
        "nlp = spacy.load(\"en_core_web_sm\")\n",
        "doc = nlp(text_data)\n",
        "\n",
        "# Get spaCy POS tags\n",
        "spacy_pos_freq = Counter(token.pos_ for token in doc)\n",
        "\n",
        "print(\"\\n spaCy POS Tag Frequencies:\")\n",
        "for tag, count in spacy_pos_freq.most_common(10):\n",
        "    print(f\"{tag}: {count}\")\n"
      ],
      "metadata": {
        "id": "MUScnDWsxwRR"
      },
      "execution_count": null,
      "outputs": []
    }
  ]
}