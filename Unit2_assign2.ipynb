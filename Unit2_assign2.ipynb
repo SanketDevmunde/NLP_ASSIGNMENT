{
  "nbformat": 4,
  "nbformat_minor": 0,
  "metadata": {
    "colab": {
      "private_outputs": true,
      "provenance": []
    },
    "kernelspec": {
      "name": "python3",
      "display_name": "Python 3"
    },
    "language_info": {
      "name": "python"
    }
  },
  "cells": [
    {
      "cell_type": "code",
      "execution_count": null,
      "metadata": {
        "id": "QggemWppzhXp"
      },
      "outputs": [],
      "source": [
        "!pip install spacy\n",
        "!python -m spacy download en_core_web_sm\n"
      ]
    },
    {
      "cell_type": "code",
      "source": [
        "import spacy\n",
        "\n",
        "# Load English model\n",
        "nlp = spacy.load(\"en_core_web_sm\")\n",
        "\n",
        "# Sample dataset (you can replace these with actual sentences or load from file)\n",
        "sentences = [\n",
        "    \"The quick brown fox jumps over the lazy dog.\",\n",
        "    \"Artificial intelligence is transforming the world.\",\n",
        "    \"Google acquired DeepMind in 2014.\",\n",
        "    \"The chef cooked a delicious meal for the guests.\",\n",
        "    \"She opened the window because it was too hot.\"\n",
        "]\n"
      ],
      "metadata": {
        "id": "O2_8Rb1bzuGY"
      },
      "execution_count": null,
      "outputs": []
    },
    {
      "cell_type": "code",
      "source": [
        "for sentence in sentences:\n",
        "    doc = nlp(sentence)\n",
        "    print(f\"\\nSentence: {sentence}\")\n",
        "    print(f\"{'Token':<15}{'POS':<10}{'Dep':<15}{'Head'}\")\n",
        "    print(\"-\" * 50)\n",
        "    for token in doc:\n",
        "        print(f\"{token.text:<15}{token.pos_:<10}{token.dep_:<15}{token.head.text}\")\n"
      ],
      "metadata": {
        "id": "-RKN9pZx0O4q"
      },
      "execution_count": null,
      "outputs": []
    },
    {
      "cell_type": "code",
      "source": [],
      "metadata": {
        "id": "S1dh8nix0rjH"
      },
      "execution_count": null,
      "outputs": []
    }
  ]
}