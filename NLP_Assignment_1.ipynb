{
  "nbformat": 4,
  "nbformat_minor": 0,
  "metadata": {
    "colab": {
      "provenance": [],
      "include_colab_link": true
    },
    "kernelspec": {
      "name": "python3",
      "display_name": "Python 3"
    },
    "language_info": {
      "name": "python"
    }
  },
  "cells": [
    {
      "cell_type": "markdown",
      "metadata": {
        "id": "view-in-github",
        "colab_type": "text"
      },
      "source": [
        "<a href=\"https://colab.research.google.com/github/SanketDevmunde/NLP_ASSIGNMENT/blob/main/NLP_Assignment_1.ipynb\" target=\"_parent\"><img src=\"https://colab.research.google.com/assets/colab-badge.svg\" alt=\"Open In Colab\"/></a>"
      ]
    },
    {
      "cell_type": "code",
      "execution_count": null,
      "metadata": {
        "colab": {
          "base_uri": "https://localhost:8080/"
        },
        "id": "w0oTFIk1mIzi",
        "outputId": "b153c94a-a91b-42f6-9267-8f6a073a5126"
      },
      "outputs": [
        {
          "output_type": "stream",
          "name": "stderr",
          "text": [
            "[nltk_data] Downloading package punkt to /root/nltk_data...\n",
            "[nltk_data]   Unzipping tokenizers/punkt.zip.\n",
            "[nltk_data] Downloading package wordnet to /root/nltk_data...\n",
            "[nltk_data] Downloading package stopwords to /root/nltk_data...\n",
            "[nltk_data]   Unzipping corpora/stopwords.zip.\n"
          ]
        },
        {
          "output_type": "execute_result",
          "data": {
            "text/plain": [
              "True"
            ]
          },
          "metadata": {},
          "execution_count": 1
        }
      ],
      "source": [
        "# Install the NLTK library\n",
        "import nltk\n",
        "\n",
        "# Download necessary NLTK data\n",
        "nltk.download('punkt')       # For tokenization\n",
        "nltk.download('wordnet')     # For lemmatization\n",
        "nltk.download('stopwords')   # For stopwords\n"
      ]
    },
    {
      "cell_type": "code",
      "source": [
        "import nltk\n",
        "\n",
        "nltk.data.clear_cache()\n",
        "\n",
        "nltk.download('punkt')\n"
      ],
      "metadata": {
        "colab": {
          "base_uri": "https://localhost:8080/"
        },
        "id": "JFd9tCozdVxu",
        "outputId": "cfbc767c-3aad-446e-8bf1-d0ed451c142e"
      },
      "execution_count": null,
      "outputs": [
        {
          "output_type": "stream",
          "name": "stderr",
          "text": [
            "[nltk_data] Downloading package punkt to /root/nltk_data...\n",
            "[nltk_data]   Package punkt is already up-to-date!\n"
          ]
        },
        {
          "output_type": "execute_result",
          "data": {
            "text/plain": [
              "True"
            ]
          },
          "metadata": {},
          "execution_count": 3
        }
      ]
    },
    {
      "cell_type": "code",
      "source": [
        "import nltk\n",
        "\n",
        "nltk.download('punkt_tab')\n"
      ],
      "metadata": {
        "colab": {
          "base_uri": "https://localhost:8080/"
        },
        "id": "eyvhCc2Fdc30",
        "outputId": "13be3673-b0cb-493e-9a41-bbba4fb7fbae"
      },
      "execution_count": null,
      "outputs": [
        {
          "output_type": "stream",
          "name": "stderr",
          "text": [
            "[nltk_data] Downloading package punkt_tab to /root/nltk_data...\n",
            "[nltk_data]   Unzipping tokenizers/punkt_tab.zip.\n"
          ]
        },
        {
          "output_type": "execute_result",
          "data": {
            "text/plain": [
              "True"
            ]
          },
          "metadata": {},
          "execution_count": 4
        }
      ]
    },
    {
      "cell_type": "code",
      "source": [
        "import nltk\n",
        "\n",
        "print(nltk.data.path)\n"
      ],
      "metadata": {
        "id": "ZNEGvPoOdn5e",
        "outputId": "a0f32421-ca3e-4674-93a4-97d24699ad9c",
        "colab": {
          "base_uri": "https://localhost:8080/"
        }
      },
      "execution_count": null,
      "outputs": [
        {
          "output_type": "stream",
          "name": "stdout",
          "text": [
            "['/root/nltk_data', '/usr/nltk_data', '/usr/share/nltk_data', '/usr/lib/nltk_data', '/usr/share/nltk_data', '/usr/local/share/nltk_data', '/usr/lib/nltk_data', '/usr/local/lib/nltk_data']\n"
          ]
        }
      ]
    },
    {
      "cell_type": "code",
      "source": [
        "# Importing necessary NLTK modules\n",
        "from nltk.tokenize import word_tokenize, TreebankWordTokenizer, regexp_tokenize\n",
        "from nltk.stem import PorterStemmer, SnowballStemmer\n",
        "from nltk.stem import WordNetLemmatizer\n",
        "\n",
        "# Sample tweet\n",
        "tweet = \"NLTK is a powerful tool! Stemming, Lemmatization & Tokenization are cool. #AI #NLP\"\n",
        "\n",
        "# Tokenization (Whitespace-based)\n",
        "tokens_whitespace = tweet.split()\n",
        "\n",
        "# Tokenization (Punctuation-based)\n",
        "tokens_punctuation = word_tokenize(tweet)\n",
        "\n",
        "# Treebank Tokenization (NLTK's Treebank tokenizer)\n",
        "treebank_tokenizer = TreebankWordTokenizer()\n",
        "tokens_treebank = treebank_tokenizer.tokenize(tweet)\n",
        "\n",
        "# Multi-Word Expressions (MWEs) Handling (RegEx-based for specific patterns)\n",
        "tokens_mwe = regexp_tokenize(tweet, pattern=r\"\\s|[\\.,;'\\-!\\*#\\(\\)]+\")\n",
        "\n",
        "# Stemming (Porter Stemmer)\n",
        "porter_stemmer = PorterStemmer()\n",
        "tokens_porter_stemmed = [porter_stemmer.stem(word) for word in tokens_punctuation]\n",
        "\n",
        "# Stemming (Snowball Stemmer - for a specific language, e.g., English)\n",
        "snowball_stemmer = SnowballStemmer(\"english\")\n",
        "tokens_snowball_stemmed = [snowball_stemmer.stem(word) for word in tokens_punctuation]\n",
        "\n",
        "# Lemmatization using WordNetLemmatizer\n",
        "lemmatizer = WordNetLemmatizer()\n",
        "tokens_lemmatized = [lemmatizer.lemmatize(word) for word in tokens_punctuation]\n",
        "\n",
        "print(\"Original Tweet:\", tweet)\n",
        "print(\"\\n1. Whitespace Tokenization:\", tokens_whitespace)\n",
        "print(\"\\n2. Punctuation Tokenization:\", tokens_punctuation)\n",
        "print(\"\\n3. Treebank Tokenization:\", tokens_treebank)\n",
        "print(\"\\n4. MWE Tokenization (Regex-based):\", tokens_mwe)\n",
        "print(\"\\n5. Porter Stemmed Tokens:\", tokens_porter_stemmed)\n",
        "print(\"\\n6. Snowball Stemmed Tokens:\", tokens_snowball_stemmed)\n",
        "print(\"\\n7. Lemmatized Tokens:\", tokens_lemmatized)\n"
      ],
      "metadata": {
        "colab": {
          "base_uri": "https://localhost:8080/"
        },
        "id": "jE36vweRc9tl",
        "outputId": "8f3661d9-5ab7-41ad-ea07-27d418f16b63"
      },
      "execution_count": null,
      "outputs": [
        {
          "output_type": "stream",
          "name": "stdout",
          "text": [
            "Original Tweet: NLTK is a powerful tool! Stemming, Lemmatization & Tokenization are cool. #AI #NLP\n",
            "\n",
            "1. Whitespace Tokenization: ['NLTK', 'is', 'a', 'powerful', 'tool!', 'Stemming,', 'Lemmatization', '&', 'Tokenization', 'are', 'cool.', '#AI', '#NLP']\n",
            "\n",
            "2. Punctuation Tokenization: ['NLTK', 'is', 'a', 'powerful', 'tool', '!', 'Stemming', ',', 'Lemmatization', '&', 'Tokenization', 'are', 'cool', '.', '#', 'AI', '#', 'NLP']\n",
            "\n",
            "3. Treebank Tokenization: ['NLTK', 'is', 'a', 'powerful', 'tool', '!', 'Stemming', ',', 'Lemmatization', '&', 'Tokenization', 'are', 'cool.', '#', 'AI', '#', 'NLP']\n",
            "\n",
            "4. MWE Tokenization (Regex-based): [' ', ' ', ' ', ' ', '!', ' ', ',', ' ', ' ', ' ', ' ', ' ', '.', ' ', '#', ' ', '#']\n",
            "\n",
            "5. Porter Stemmed Tokens: ['nltk', 'is', 'a', 'power', 'tool', '!', 'stem', ',', 'lemmat', '&', 'token', 'are', 'cool', '.', '#', 'ai', '#', 'nlp']\n",
            "\n",
            "6. Snowball Stemmed Tokens: ['nltk', 'is', 'a', 'power', 'tool', '!', 'stem', ',', 'lemmat', '&', 'token', 'are', 'cool', '.', '#', 'ai', '#', 'nlp']\n",
            "\n",
            "7. Lemmatized Tokens: ['NLTK', 'is', 'a', 'powerful', 'tool', '!', 'Stemming', ',', 'Lemmatization', '&', 'Tokenization', 'are', 'cool', '.', '#', 'AI', '#', 'NLP']\n"
          ]
        }
      ]
    }
  ]
}