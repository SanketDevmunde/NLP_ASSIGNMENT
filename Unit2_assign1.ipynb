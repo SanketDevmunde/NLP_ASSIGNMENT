{
  "nbformat": 4,
  "nbformat_minor": 0,
  "metadata": {
    "colab": {
      "private_outputs": true,
      "provenance": []
    },
    "kernelspec": {
      "name": "python3",
      "display_name": "Python 3"
    },
    "language_info": {
      "name": "python"
    }
  },
  "cells": [
    {
      "cell_type": "code",
      "execution_count": null,
      "metadata": {
        "id": "j5m6xBJnzGet"
      },
      "outputs": [],
      "source": [
        "# Define rules for suffix stripping (simple simulation of an FST)\n",
        "morph_rules = {\n",
        "    \"ing\": \"\",   # run + ing → run\n",
        "    \"ed\": \"\",    # walk + ed → walk\n",
        "    \"er\": \"\",    # happy + er → happy\n",
        "    \"est\": \"\",   # small + est → small\n",
        "    \"s\": \"\",     # cat + s → cat\n",
        "    \"es\": \"\",    # box + es → box\n",
        "    \"ly\": \"\",    # quick + ly → quick\n",
        "    \"ment\": \"\",  # develop + ment → develop\n",
        "    \"ness\": \"\",  # kind + ness → kind\n",
        "    \"ful\": \"\",   # hope + ful → hope\n",
        "    \"able\": \"\",  # read + able → read\n",
        "}\n"
      ]
    },
    {
      "cell_type": "code",
      "source": [
        "def morphological_parser(word):\n",
        "    for suffix in sorted(morph_rules.keys(), key=len, reverse=True):\n",
        "        if word.endswith(suffix) and len(word) > len(suffix) + 1:\n",
        "            root = word[: -len(suffix)] + morph_rules[suffix]\n",
        "            return root, suffix\n",
        "    return word, None\n"
      ],
      "metadata": {
        "id": "X1jvybxSzN40"
      },
      "execution_count": null,
      "outputs": []
    },
    {
      "cell_type": "code",
      "source": [
        "# Sample word list\n",
        "words = [\"running\", \"happier\", \"cats\", \"walked\", \"strongest\", \"hopeful\", \"kindness\", \"readable\", \"quickly\", \"development\"]\n",
        "\n",
        "# Analyze\n",
        "print(f\"{'Word':<15}{'Root':<10}{'Suffix'}\")\n",
        "print(\"-\" * 35)\n",
        "for word in words:\n",
        "    root, suffix = morphological_parser(word)\n",
        "    print(f\"{word:<15}{root:<10}{suffix if suffix else '-'}\")\n"
      ],
      "metadata": {
        "id": "XVmczs9FzTAU"
      },
      "execution_count": null,
      "outputs": []
    }
  ]
}